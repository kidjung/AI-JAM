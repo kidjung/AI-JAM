{
 "cells": [
  {
   "cell_type": "code",
   "execution_count": 1,
   "metadata": {},
   "outputs": [],
   "source": [
    "import pandas as pd"
   ]
  },
  {
   "cell_type": "code",
   "execution_count": 2,
   "metadata": {
    "scrolled": false
   },
   "outputs": [
    {
     "data": {
      "text/html": [
       "<div>\n",
       "<style scoped>\n",
       "    .dataframe tbody tr th:only-of-type {\n",
       "        vertical-align: middle;\n",
       "    }\n",
       "\n",
       "    .dataframe tbody tr th {\n",
       "        vertical-align: top;\n",
       "    }\n",
       "\n",
       "    .dataframe thead th {\n",
       "        text-align: right;\n",
       "    }\n",
       "</style>\n",
       "<table border=\"1\" class=\"dataframe\">\n",
       "  <thead>\n",
       "    <tr style=\"text-align: right;\">\n",
       "      <th></th>\n",
       "      <th>id</th>\n",
       "      <th>name</th>\n",
       "      <th>currency</th>\n",
       "      <th>main_category</th>\n",
       "      <th>sub_category</th>\n",
       "      <th>launched_at</th>\n",
       "      <th>deadline</th>\n",
       "      <th>duration</th>\n",
       "      <th>goal_usd</th>\n",
       "      <th>city</th>\n",
       "      <th>state</th>\n",
       "      <th>country</th>\n",
       "      <th>blurb_length</th>\n",
       "      <th>name_length</th>\n",
       "      <th>status</th>\n",
       "      <th>start_month</th>\n",
       "      <th>end_month</th>\n",
       "      <th>start_Q</th>\n",
       "      <th>end_Q</th>\n",
       "      <th>usd_pledged</th>\n",
       "    </tr>\n",
       "  </thead>\n",
       "  <tbody>\n",
       "    <tr>\n",
       "      <th>0</th>\n",
       "      <td>1687733153</td>\n",
       "      <td>Socks of Speed and Socks of Elvenkind</td>\n",
       "      <td>USD</td>\n",
       "      <td>games</td>\n",
       "      <td>Tabletop Games</td>\n",
       "      <td>2018-10-30 20:00:02</td>\n",
       "      <td>2018-11-15 17:59:00</td>\n",
       "      <td>16.0</td>\n",
       "      <td>2000.00000</td>\n",
       "      <td>Menasha</td>\n",
       "      <td>WI</td>\n",
       "      <td>US</td>\n",
       "      <td>14</td>\n",
       "      <td>7</td>\n",
       "      <td>successful</td>\n",
       "      <td>10</td>\n",
       "      <td>11</td>\n",
       "      <td>Q4</td>\n",
       "      <td>Q4</td>\n",
       "      <td>6061.000000</td>\n",
       "    </tr>\n",
       "    <tr>\n",
       "      <th>1</th>\n",
       "      <td>227936657</td>\n",
       "      <td>Power Punch Boot Camp: An All-Ages Graphic Novel</td>\n",
       "      <td>GBP</td>\n",
       "      <td>comics</td>\n",
       "      <td>Comic Books</td>\n",
       "      <td>2018-08-06 10:00:43</td>\n",
       "      <td>2018-09-05 10:00:43</td>\n",
       "      <td>30.0</td>\n",
       "      <td>3870.99771</td>\n",
       "      <td>Shepperton</td>\n",
       "      <td>England</td>\n",
       "      <td>GB</td>\n",
       "      <td>24</td>\n",
       "      <td>8</td>\n",
       "      <td>successful</td>\n",
       "      <td>8</td>\n",
       "      <td>9</td>\n",
       "      <td>Q3</td>\n",
       "      <td>Q3</td>\n",
       "      <td>3914.505120</td>\n",
       "    </tr>\n",
       "    <tr>\n",
       "      <th>2</th>\n",
       "      <td>454186436</td>\n",
       "      <td>Live Printing with SX8: \"Squeegee Pulp Up\"</td>\n",
       "      <td>USD</td>\n",
       "      <td>fashion</td>\n",
       "      <td>Apparel</td>\n",
       "      <td>2017-06-09 15:41:03</td>\n",
       "      <td>2017-07-09 15:41:03</td>\n",
       "      <td>30.0</td>\n",
       "      <td>1100.00000</td>\n",
       "      <td>Manhattan</td>\n",
       "      <td>NY</td>\n",
       "      <td>US</td>\n",
       "      <td>21</td>\n",
       "      <td>7</td>\n",
       "      <td>successful</td>\n",
       "      <td>6</td>\n",
       "      <td>7</td>\n",
       "      <td>Q2</td>\n",
       "      <td>Q3</td>\n",
       "      <td>1110.000000</td>\n",
       "    </tr>\n",
       "    <tr>\n",
       "      <th>3</th>\n",
       "      <td>629469071</td>\n",
       "      <td>Lost Dog Street Band's Next Album</td>\n",
       "      <td>USD</td>\n",
       "      <td>music</td>\n",
       "      <td>Country &amp; Folk</td>\n",
       "      <td>2014-09-25 18:46:01</td>\n",
       "      <td>2014-11-10 06:00:00</td>\n",
       "      <td>45.0</td>\n",
       "      <td>3500.00000</td>\n",
       "      <td>Nashville</td>\n",
       "      <td>TN</td>\n",
       "      <td>US</td>\n",
       "      <td>15</td>\n",
       "      <td>6</td>\n",
       "      <td>successful</td>\n",
       "      <td>9</td>\n",
       "      <td>11</td>\n",
       "      <td>Q3</td>\n",
       "      <td>Q4</td>\n",
       "      <td>4807.000000</td>\n",
       "    </tr>\n",
       "    <tr>\n",
       "      <th>4</th>\n",
       "      <td>183973060</td>\n",
       "      <td>Qto-X, a Tiny Lantern</td>\n",
       "      <td>USD</td>\n",
       "      <td>technology</td>\n",
       "      <td>Gadgets</td>\n",
       "      <td>2016-11-28 16:35:11</td>\n",
       "      <td>2017-01-27 16:35:11</td>\n",
       "      <td>60.0</td>\n",
       "      <td>30000.00000</td>\n",
       "      <td>Troy</td>\n",
       "      <td>MI</td>\n",
       "      <td>US</td>\n",
       "      <td>15</td>\n",
       "      <td>4</td>\n",
       "      <td>successful</td>\n",
       "      <td>11</td>\n",
       "      <td>1</td>\n",
       "      <td>Q4</td>\n",
       "      <td>Q1</td>\n",
       "      <td>40368.000000</td>\n",
       "    </tr>\n",
       "    <tr>\n",
       "      <th>...</th>\n",
       "      <td>...</td>\n",
       "      <td>...</td>\n",
       "      <td>...</td>\n",
       "      <td>...</td>\n",
       "      <td>...</td>\n",
       "      <td>...</td>\n",
       "      <td>...</td>\n",
       "      <td>...</td>\n",
       "      <td>...</td>\n",
       "      <td>...</td>\n",
       "      <td>...</td>\n",
       "      <td>...</td>\n",
       "      <td>...</td>\n",
       "      <td>...</td>\n",
       "      <td>...</td>\n",
       "      <td>...</td>\n",
       "      <td>...</td>\n",
       "      <td>...</td>\n",
       "      <td>...</td>\n",
       "      <td>...</td>\n",
       "    </tr>\n",
       "    <tr>\n",
       "      <th>192543</th>\n",
       "      <td>1882418986</td>\n",
       "      <td>Book CafÃÂ© Bergen</td>\n",
       "      <td>NOK</td>\n",
       "      <td>food</td>\n",
       "      <td>Drinks</td>\n",
       "      <td>2016-10-19 18:07:51</td>\n",
       "      <td>2016-12-18 19:07:51</td>\n",
       "      <td>60.0</td>\n",
       "      <td>57858.66500</td>\n",
       "      <td>Bergen</td>\n",
       "      <td>Hordaland Fylke</td>\n",
       "      <td>NO</td>\n",
       "      <td>21</td>\n",
       "      <td>3</td>\n",
       "      <td>failed</td>\n",
       "      <td>10</td>\n",
       "      <td>12</td>\n",
       "      <td>Q4</td>\n",
       "      <td>Q4</td>\n",
       "      <td>1.224260</td>\n",
       "    </tr>\n",
       "    <tr>\n",
       "      <th>192544</th>\n",
       "      <td>89212319</td>\n",
       "      <td>Chainlink tool</td>\n",
       "      <td>NOK</td>\n",
       "      <td>technology</td>\n",
       "      <td>Fabrication Tools</td>\n",
       "      <td>2014-11-14 12:11:46</td>\n",
       "      <td>2014-12-31 12:59:00</td>\n",
       "      <td>47.0</td>\n",
       "      <td>115717.33000</td>\n",
       "      <td>BÃÂ¥tsfjord</td>\n",
       "      <td>Finnmark Fylke</td>\n",
       "      <td>NO</td>\n",
       "      <td>18</td>\n",
       "      <td>2</td>\n",
       "      <td>failed</td>\n",
       "      <td>11</td>\n",
       "      <td>12</td>\n",
       "      <td>Q4</td>\n",
       "      <td>Q4</td>\n",
       "      <td>157.273939</td>\n",
       "    </tr>\n",
       "    <tr>\n",
       "      <th>192545</th>\n",
       "      <td>109884142</td>\n",
       "      <td>PNW Juice Truck</td>\n",
       "      <td>USD</td>\n",
       "      <td>food</td>\n",
       "      <td>Drinks</td>\n",
       "      <td>2016-02-02 22:34:22</td>\n",
       "      <td>2016-03-03 22:34:22</td>\n",
       "      <td>30.0</td>\n",
       "      <td>30000.00000</td>\n",
       "      <td>Seattle</td>\n",
       "      <td>WA</td>\n",
       "      <td>US</td>\n",
       "      <td>13</td>\n",
       "      <td>3</td>\n",
       "      <td>failed</td>\n",
       "      <td>2</td>\n",
       "      <td>3</td>\n",
       "      <td>Q1</td>\n",
       "      <td>Q1</td>\n",
       "      <td>0.000000</td>\n",
       "    </tr>\n",
       "    <tr>\n",
       "      <th>192546</th>\n",
       "      <td>277520923</td>\n",
       "      <td>succulent christmas tree</td>\n",
       "      <td>USD</td>\n",
       "      <td>art</td>\n",
       "      <td>Conceptual Art</td>\n",
       "      <td>2014-08-06 18:16:29</td>\n",
       "      <td>2014-10-05 18:16:29</td>\n",
       "      <td>60.0</td>\n",
       "      <td>1200.00000</td>\n",
       "      <td>Los Angeles</td>\n",
       "      <td>CA</td>\n",
       "      <td>US</td>\n",
       "      <td>3</td>\n",
       "      <td>3</td>\n",
       "      <td>failed</td>\n",
       "      <td>8</td>\n",
       "      <td>10</td>\n",
       "      <td>Q3</td>\n",
       "      <td>Q4</td>\n",
       "      <td>143.000000</td>\n",
       "    </tr>\n",
       "    <tr>\n",
       "      <th>192547</th>\n",
       "      <td>2054018879</td>\n",
       "      <td>Monthly Herbal Boxes!</td>\n",
       "      <td>USD</td>\n",
       "      <td>crafts</td>\n",
       "      <td>DIY</td>\n",
       "      <td>2016-12-23 18:40:05</td>\n",
       "      <td>2017-02-21 18:40:05</td>\n",
       "      <td>60.0</td>\n",
       "      <td>7600.00000</td>\n",
       "      <td>Phoenix</td>\n",
       "      <td>AZ</td>\n",
       "      <td>US</td>\n",
       "      <td>20</td>\n",
       "      <td>3</td>\n",
       "      <td>failed</td>\n",
       "      <td>12</td>\n",
       "      <td>2</td>\n",
       "      <td>Q4</td>\n",
       "      <td>Q1</td>\n",
       "      <td>311.000000</td>\n",
       "    </tr>\n",
       "  </tbody>\n",
       "</table>\n",
       "<p>192548 rows × 20 columns</p>\n",
       "</div>"
      ],
      "text/plain": [
       "                id                                              name currency  \\\n",
       "0       1687733153             Socks of Speed and Socks of Elvenkind      USD   \n",
       "1        227936657  Power Punch Boot Camp: An All-Ages Graphic Novel      GBP   \n",
       "2        454186436        Live Printing with SX8: \"Squeegee Pulp Up\"      USD   \n",
       "3        629469071                 Lost Dog Street Band's Next Album      USD   \n",
       "4        183973060                             Qto-X, a Tiny Lantern      USD   \n",
       "...            ...                                               ...      ...   \n",
       "192543  1882418986                               Book CafÃÂ© Bergen      NOK   \n",
       "192544    89212319                                    Chainlink tool      NOK   \n",
       "192545   109884142                                   PNW Juice Truck      USD   \n",
       "192546   277520923                          succulent christmas tree      USD   \n",
       "192547  2054018879                             Monthly Herbal Boxes!      USD   \n",
       "\n",
       "       main_category       sub_category          launched_at  \\\n",
       "0              games     Tabletop Games  2018-10-30 20:00:02   \n",
       "1             comics        Comic Books  2018-08-06 10:00:43   \n",
       "2            fashion            Apparel  2017-06-09 15:41:03   \n",
       "3              music     Country & Folk  2014-09-25 18:46:01   \n",
       "4         technology            Gadgets  2016-11-28 16:35:11   \n",
       "...              ...                ...                  ...   \n",
       "192543          food             Drinks  2016-10-19 18:07:51   \n",
       "192544    technology  Fabrication Tools  2014-11-14 12:11:46   \n",
       "192545          food             Drinks  2016-02-02 22:34:22   \n",
       "192546           art     Conceptual Art  2014-08-06 18:16:29   \n",
       "192547        crafts                DIY  2016-12-23 18:40:05   \n",
       "\n",
       "                   deadline  duration      goal_usd          city  \\\n",
       "0       2018-11-15 17:59:00      16.0    2000.00000       Menasha   \n",
       "1       2018-09-05 10:00:43      30.0    3870.99771    Shepperton   \n",
       "2       2017-07-09 15:41:03      30.0    1100.00000     Manhattan   \n",
       "3       2014-11-10 06:00:00      45.0    3500.00000     Nashville   \n",
       "4       2017-01-27 16:35:11      60.0   30000.00000          Troy   \n",
       "...                     ...       ...           ...           ...   \n",
       "192543  2016-12-18 19:07:51      60.0   57858.66500        Bergen   \n",
       "192544  2014-12-31 12:59:00      47.0  115717.33000  BÃÂ¥tsfjord   \n",
       "192545  2016-03-03 22:34:22      30.0   30000.00000       Seattle   \n",
       "192546  2014-10-05 18:16:29      60.0    1200.00000   Los Angeles   \n",
       "192547  2017-02-21 18:40:05      60.0    7600.00000       Phoenix   \n",
       "\n",
       "                  state country  blurb_length  name_length      status  \\\n",
       "0                    WI      US            14            7  successful   \n",
       "1               England      GB            24            8  successful   \n",
       "2                    NY      US            21            7  successful   \n",
       "3                    TN      US            15            6  successful   \n",
       "4                    MI      US            15            4  successful   \n",
       "...                 ...     ...           ...          ...         ...   \n",
       "192543  Hordaland Fylke      NO            21            3      failed   \n",
       "192544   Finnmark Fylke      NO            18            2      failed   \n",
       "192545               WA      US            13            3      failed   \n",
       "192546               CA      US             3            3      failed   \n",
       "192547               AZ      US            20            3      failed   \n",
       "\n",
       "        start_month  end_month start_Q end_Q   usd_pledged  \n",
       "0                10         11      Q4    Q4   6061.000000  \n",
       "1                 8          9      Q3    Q3   3914.505120  \n",
       "2                 6          7      Q2    Q3   1110.000000  \n",
       "3                 9         11      Q3    Q4   4807.000000  \n",
       "4                11          1      Q4    Q1  40368.000000  \n",
       "...             ...        ...     ...   ...           ...  \n",
       "192543           10         12      Q4    Q4      1.224260  \n",
       "192544           11         12      Q4    Q4    157.273939  \n",
       "192545            2          3      Q1    Q1      0.000000  \n",
       "192546            8         10      Q3    Q4    143.000000  \n",
       "192547           12          2      Q4    Q1    311.000000  \n",
       "\n",
       "[192548 rows x 20 columns]"
      ]
     },
     "execution_count": 2,
     "metadata": {},
     "output_type": "execute_result"
    }
   ],
   "source": [
    "df = pd.read_csv(\"Kickstarter_projects_Feb19.csv\")\n",
    "df"
   ]
  },
  {
   "cell_type": "code",
   "execution_count": 3,
   "metadata": {
    "scrolled": true
   },
   "outputs": [
    {
     "data": {
      "text/plain": [
       "music           25850\n",
       "film & video    25622\n",
       "technology      19592\n",
       "art             19043\n",
       "publishing      18676\n",
       "food            14961\n",
       "games           12567\n",
       "fashion         10812\n",
       "comics           8168\n",
       "design           7719\n",
       "photography      7346\n",
       "crafts           6530\n",
       "theater          6451\n",
       "journalism       5287\n",
       "dance            3924\n",
       "Name: main_category, dtype: int64"
      ]
     },
     "execution_count": 3,
     "metadata": {},
     "output_type": "execute_result"
    }
   ],
   "source": [
    "#카테고리 종류\n",
    "mc = df['main_category']\n",
    "mc.value_counts()"
   ]
  },
  {
   "cell_type": "markdown",
   "metadata": {},
   "source": [
    "# 카테고리별 sub_category 항목 별 데이터 수\n",
    "---"
   ]
  },
  {
   "cell_type": "markdown",
   "metadata": {},
   "source": [
    "## music 카테고리"
   ]
  },
  {
   "cell_type": "code",
   "execution_count": 4,
   "metadata": {
    "scrolled": true
   },
   "outputs": [
    {
     "data": {
      "text/plain": [
       "Country & Folk      2628\n",
       "Rock                2557\n",
       "Indie Rock          2534\n",
       "Classical Music     2495\n",
       "Pop                 2468\n",
       "Hip-Hop             2435\n",
       "World Music         2156\n",
       "Electronic Music    2148\n",
       "Jazz                1999\n",
       "Faith               1215\n",
       "Metal                794\n",
       "Music                718\n",
       "R&B                  499\n",
       "Punk                 340\n",
       "Kids                 310\n",
       "Blues                297\n",
       "Latin                169\n",
       "Comedy                47\n",
       "Chiptune              41\n",
       "Name: sub_category, dtype: int64"
      ]
     },
     "execution_count": 4,
     "metadata": {},
     "output_type": "execute_result"
    }
   ],
   "source": [
    "# music 카테고리\n",
    "mc_music = df.loc[df['main_category'] == 'music']\n",
    "mc_music['sub_category'].value_counts()"
   ]
  },
  {
   "cell_type": "markdown",
   "metadata": {},
   "source": [
    "## film & video 카테고리"
   ]
  },
  {
   "cell_type": "code",
   "execution_count": 5,
   "metadata": {
    "scrolled": true
   },
   "outputs": [
    {
     "data": {
      "text/plain": [
       "Documentary        2748\n",
       "Shorts             2737\n",
       "Narrative Film     2500\n",
       "Animation          2461\n",
       "Drama              2453\n",
       "Webseries          2449\n",
       "Comedy             2331\n",
       "Horror             1409\n",
       "Television         1010\n",
       "Science Fiction     816\n",
       "Thrillers           805\n",
       "Action              749\n",
       "Music Videos        711\n",
       "Experimental        594\n",
       "Fantasy             388\n",
       "Family              358\n",
       "Festivals           329\n",
       "Movie Theaters      320\n",
       "Film & Video        243\n",
       "Romance             211\n",
       "Name: sub_category, dtype: int64"
      ]
     },
     "execution_count": 5,
     "metadata": {},
     "output_type": "execute_result"
    }
   ],
   "source": [
    "# film & video 카테고리\n",
    "mc_filmvideo = df.loc[df['main_category'] == 'film & video']\n",
    "mc_filmvideo['sub_category'].value_counts()"
   ]
  },
  {
   "cell_type": "markdown",
   "metadata": {},
   "source": [
    "## technology 카테고리"
   ]
  },
  {
   "cell_type": "code",
   "execution_count": 6,
   "metadata": {
    "scrolled": false
   },
   "outputs": [
    {
     "data": {
      "text/plain": [
       "Gadgets              2826\n",
       "Hardware             2609\n",
       "Apps                 2460\n",
       "Software             2451\n",
       "Web                  2448\n",
       "Wearables            1321\n",
       "DIY Electronics      1115\n",
       "Sound                 847\n",
       "3D Printing           750\n",
       "Robots                635\n",
       "Camera Equipment      524\n",
       "Flight                385\n",
       "Space Exploration     352\n",
       "Technology            346\n",
       "Fabrication Tools     278\n",
       "Makerspaces           245\n",
       "Name: sub_category, dtype: int64"
      ]
     },
     "execution_count": 6,
     "metadata": {},
     "output_type": "execute_result"
    }
   ],
   "source": [
    "# technology 카테고리\n",
    "mc_tech = df.loc[df['main_category'] == 'technology']\n",
    "mc_tech['sub_category'].value_counts()"
   ]
  },
  {
   "cell_type": "markdown",
   "metadata": {},
   "source": [
    "## art 카테고리"
   ]
  },
  {
   "cell_type": "code",
   "execution_count": 7,
   "metadata": {
    "scrolled": false
   },
   "outputs": [
    {
     "data": {
      "text/plain": [
       "Illustration       2792\n",
       "Mixed Media        2478\n",
       "Public Art         2477\n",
       "Painting           2440\n",
       "Performance Art    2137\n",
       "Sculpture          1839\n",
       "Digital Art        1563\n",
       "Conceptual Art     1034\n",
       "Art                 822\n",
       "Installations       563\n",
       "Ceramics            353\n",
       "Textiles            343\n",
       "Video Art           202\n",
       "Name: sub_category, dtype: int64"
      ]
     },
     "execution_count": 7,
     "metadata": {},
     "output_type": "execute_result"
    }
   ],
   "source": [
    "# art 카테고리\n",
    "mc_art = df.loc[df['main_category'] == 'art']\n",
    "mc_art['sub_category'].value_counts()"
   ]
  },
  {
   "cell_type": "markdown",
   "metadata": {},
   "source": [
    "## publishing 카테고리"
   ]
  },
  {
   "cell_type": "code",
   "execution_count": 8,
   "metadata": {
    "scrolled": true
   },
   "outputs": [
    {
     "data": {
      "text/plain": [
       "Children's Books     2785\n",
       "Nonfiction           2604\n",
       "Art Books            2581\n",
       "Fiction              2580\n",
       "Poetry               1461\n",
       "Periodicals          1273\n",
       "Radio & Podcasts     1021\n",
       "Academic              947\n",
       "Young Adult           859\n",
       "Anthologies           561\n",
       "Zines                 515\n",
       "Calendars             407\n",
       "Literary Journals     313\n",
       "Publishing            304\n",
       "Translations          162\n",
       "Comedy                147\n",
       "Literary Spaces        99\n",
       "Letterpress            57\n",
       "Name: sub_category, dtype: int64"
      ]
     },
     "execution_count": 8,
     "metadata": {},
     "output_type": "execute_result"
    }
   ],
   "source": [
    "# publishing 카테고리\n",
    "mc_publishing = df.loc[df['main_category'] == 'publishing']\n",
    "mc_publishing['sub_category'].value_counts()"
   ]
  },
  {
   "cell_type": "markdown",
   "metadata": {},
   "source": [
    "## fashion 카테고리"
   ]
  },
  {
   "cell_type": "code",
   "execution_count": 9,
   "metadata": {
    "scrolled": true
   },
   "outputs": [
    {
     "data": {
      "text/plain": [
       "Accessories      3356\n",
       "Apparel          2816\n",
       "Jewelry          1470\n",
       "Footwear         1109\n",
       "Ready-to-wear     948\n",
       "Childrenswear     530\n",
       "Couture           262\n",
       "Fashion           179\n",
       "Pet Fashion       142\n",
       "Name: sub_category, dtype: int64"
      ]
     },
     "execution_count": 9,
     "metadata": {},
     "output_type": "execute_result"
    }
   ],
   "source": [
    "# fashoin 카테고리\n",
    "mc_fashion = df.loc[df['main_category'] == 'fashion']\n",
    "mc_fashion['sub_category'].value_counts()"
   ]
  },
  {
   "cell_type": "markdown",
   "metadata": {},
   "source": [
    "## food 카테고리"
   ]
  },
  {
   "cell_type": "code",
   "execution_count": 12,
   "metadata": {
    "scrolled": true
   },
   "outputs": [
    {
     "data": {
      "text/plain": [
       "Drinks               2785\n",
       "Restaurants          2663\n",
       "Small Batch          2202\n",
       "Food Trucks          1875\n",
       "Farms                1288\n",
       "Vegan                 817\n",
       "Events                693\n",
       "Cookbooks             631\n",
       "Food                  530\n",
       "Spaces                524\n",
       "Farmer's Markets      460\n",
       "Community Gardens     305\n",
       "Bacon                 188\n",
       "Name: sub_category, dtype: int64"
      ]
     },
     "execution_count": 12,
     "metadata": {},
     "output_type": "execute_result"
    }
   ],
   "source": [
    "# food 카테고리\n",
    "mc_food = df.loc[df['main_category'] == 'food']\n",
    "mc_food['sub_category'].value_counts()"
   ]
  },
  {
   "cell_type": "markdown",
   "metadata": {},
   "source": [
    "## design 카테고리"
   ]
  },
  {
   "cell_type": "code",
   "execution_count": 13,
   "metadata": {
    "scrolled": false
   },
   "outputs": [
    {
     "data": {
      "text/plain": [
       "Product Design        3776\n",
       "Graphic Design        2148\n",
       "Architecture           752\n",
       "Interactive Design     398\n",
       "Civic Design           309\n",
       "Design                 196\n",
       "Typography             140\n",
       "Name: sub_category, dtype: int64"
      ]
     },
     "execution_count": 13,
     "metadata": {},
     "output_type": "execute_result"
    }
   ],
   "source": [
    "# design 카테고리\n",
    "mc_design = df.loc[df['main_category'] == 'design']\n",
    "mc_design['sub_category'].value_counts()"
   ]
  },
  {
   "cell_type": "markdown",
   "metadata": {},
   "source": [
    "## journalism 카테고리"
   ]
  },
  {
   "cell_type": "code",
   "execution_count": 14,
   "metadata": {},
   "outputs": [
    {
     "data": {
      "text/plain": [
       "Web           1882\n",
       "Print         1126\n",
       "Audio          694\n",
       "Journalism     694\n",
       "Video          613\n",
       "Photo          278\n",
       "Name: sub_category, dtype: int64"
      ]
     },
     "execution_count": 14,
     "metadata": {},
     "output_type": "execute_result"
    }
   ],
   "source": [
    "# journalism 카테고리\n",
    "mc_journalism = df.loc[df['main_category'] == 'journalism']\n",
    "mc_journalism['sub_category'].value_counts()"
   ]
  },
  {
   "cell_type": "markdown",
   "metadata": {},
   "source": [
    "## games 카테고리"
   ]
  },
  {
   "cell_type": "code",
   "execution_count": 16,
   "metadata": {},
   "outputs": [
    {
     "data": {
      "text/plain": [
       "Tabletop Games     3430\n",
       "Playing Cards      2556\n",
       "Video Games        2459\n",
       "Mobile Games       2397\n",
       "Live Games         1018\n",
       "Gaming Hardware     404\n",
       "Puzzles             240\n",
       "Games                63\n",
       "Name: sub_category, dtype: int64"
      ]
     },
     "execution_count": 16,
     "metadata": {},
     "output_type": "execute_result"
    }
   ],
   "source": [
    "# games 카테고리\n",
    "mc_games = df.loc[df['main_category'] == 'games']\n",
    "mc_games['sub_category'].value_counts()"
   ]
  },
  {
   "cell_type": "code",
   "execution_count": 10,
   "metadata": {
    "scrolled": false
   },
   "outputs": [
    {
     "data": {
      "text/plain": [
       "Web                4330\n",
       "Product Design     3776\n",
       "Tabletop Games     3430\n",
       "Accessories        3356\n",
       "Comic Books        3284\n",
       "                   ... \n",
       "Literary Spaces      99\n",
       "Games                63\n",
       "Letterpress          57\n",
       "Chiptune             41\n",
       "Taxidermy            15\n",
       "Name: sub_category, Length: 159, dtype: int64"
      ]
     },
     "execution_count": 10,
     "metadata": {},
     "output_type": "execute_result"
    }
   ],
   "source": [
    "df['sub_category'].value_counts()"
   ]
  },
  {
   "cell_type": "code",
   "execution_count": null,
   "metadata": {},
   "outputs": [],
   "source": []
  },
  {
   "cell_type": "code",
   "execution_count": 11,
   "metadata": {},
   "outputs": [],
   "source": [
    "# music 카테고리 전처리\n",
    "df.loc[(df['sub_category'] == 'Blues'),  'sub_category'] = 'Music'\n",
    "df.loc[df['sub_category'] == 'Latin', 'sub_category'] = 'Music'\n",
    "df.loc[df['sub_category'] == 'Comedy', 'sub_category'] = 'Music'\n",
    "df.loc[df['sub_category'] == 'Chiptune', 'sub_category'] = 'Music'\n",
    "\n",
    "# film & video 카테고리 전처리\n",
    "df.loc[(df['sub_category'] == 'Romance'),  'sub_category'] = 'Film & Video'\n",
    "\n",
    "# technology 카테고리 전처리\n",
    "df.loc[(df['sub_category'] == 'Fabrication Tools'),  'sub_category'] = 'Technology'\n",
    "df.loc[df['sub_category'] == 'Makerspaces', 'sub_category'] = 'Technology'\n",
    "\n",
    "# art 카테고리 전처리\n",
    "df.loc[(df['sub_category'] == 'Video Art'),  'sub_category'] = 'Art'\n",
    "\n",
    "# publishing 카테고리 전처리\n",
    "df.loc[(df['sub_category'] == 'Translations'),  'sub_category'] = 'Publishing'\n",
    "df.loc[df['sub_category'] == 'Comedy', 'sub_category'] = 'Publishing'\n",
    "df.loc[df['sub_category'] == 'Literary Spaces', 'sub_category'] = 'Publishing'\n",
    "df.loc[df['sub_category'] == 'Letterpress', 'sub_category'] = 'Publishing'"
   ]
  },
  {
   "cell_type": "code",
   "execution_count": null,
   "metadata": {},
   "outputs": [],
   "source": []
  }
 ],
 "metadata": {
  "kernelspec": {
   "display_name": "Python 3",
   "language": "python",
   "name": "python3"
  },
  "language_info": {
   "codemirror_mode": {
    "name": "ipython",
    "version": 3
   },
   "file_extension": ".py",
   "mimetype": "text/x-python",
   "name": "python",
   "nbconvert_exporter": "python",
   "pygments_lexer": "ipython3",
   "version": "3.8.3"
  }
 },
 "nbformat": 4,
 "nbformat_minor": 4
}
